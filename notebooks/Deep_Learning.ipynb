{
 "cells": [
  {
   "cell_type": "code",
   "execution_count": 1,
   "id": "60b7f4dd",
   "metadata": {},
   "outputs": [],
   "source": [
    "import numpy as np\n",
    "import pandas as pd\n",
    "import matplotlib.pyplot as plt\n",
    "from matplotlib.gridspec import GridSpec\n",
    "from matplotlib import ticker\n",
    "from statsmodels.tsa.stattools import adfuller, acf, pacf\n",
    "from sklearn.preprocessing import MinMaxScaler\n",
    "import tensorflow as tf\n",
    "from tensorflow.keras.models import Sequential\n",
    "from tensorflow.keras.layers import Dense\n",
    "from tensorflow.keras.layers import LSTM\n",
    "\n",
    "import warnings\n",
    "warnings.filterwarnings(\"ignore\")\n",
    "pd.set_option('max_column', None)"
   ]
  },
  {
   "cell_type": "markdown",
   "id": "5e05145e",
   "metadata": {},
   "source": [
    "# Load the Data and Make Transformations"
   ]
  },
  {
   "cell_type": "code",
   "execution_count": 2,
   "id": "6fef50b4",
   "metadata": {},
   "outputs": [],
   "source": [
    "train_df=pd.read_csv('../data/train.csv')\n",
    "store_df=pd.read_csv('../data/store.csv')\n",
    "test_df=pd.read_csv('../data/test.csv')"
   ]
  },
  {
   "cell_type": "code",
   "execution_count": 3,
   "id": "7f40aee2",
   "metadata": {},
   "outputs": [],
   "source": [
    "#convert date column to date type and make it an index\n",
    "def get_date_type(df):\n",
    "    df['Date']=pd.to_datetime(df['Date'], format='%Y-%m-%d')\n",
    "    df['Year'] = df['Date'].dt.year\n",
    "    df['Month'] = df['Date'].dt.month\n",
    "    df['Day'] = df['Date'].dt.day\n",
    "    df['WeekOfYear'] = df['Date'].dt.weekofyear\n",
    "    return df\n",
    "train_df=get_date_type(train_df)"
   ]
  },
  {
   "cell_type": "code",
   "execution_count": 4,
   "id": "7a668411",
   "metadata": {},
   "outputs": [],
   "source": [
    "store_df['CompetitionDistance'].fillna(store_df['CompetitionDistance'].median(), inplace = True)\n",
    "#merge the train data with store data\n",
    "train_store=train_df.merge(store_df,on='Store')\n",
    "train_store.fillna(0, inplace=True)\n",
    "train_store=get_date_type(train_store)\n",
    "# train_store.head()\n"
   ]
  },
  {
   "cell_type": "code",
   "execution_count": 8,
   "id": "df9cada9",
   "metadata": {},
   "outputs": [
    {
     "data": {
      "text/html": [
       "<div>\n",
       "<style scoped>\n",
       "    .dataframe tbody tr th:only-of-type {\n",
       "        vertical-align: middle;\n",
       "    }\n",
       "\n",
       "    .dataframe tbody tr th {\n",
       "        vertical-align: top;\n",
       "    }\n",
       "\n",
       "    .dataframe thead th {\n",
       "        text-align: right;\n",
       "    }\n",
       "</style>\n",
       "<table border=\"1\" class=\"dataframe\">\n",
       "  <thead>\n",
       "    <tr style=\"text-align: right;\">\n",
       "      <th></th>\n",
       "      <th>Date</th>\n",
       "      <th>Sales</th>\n",
       "    </tr>\n",
       "  </thead>\n",
       "  <tbody>\n",
       "    <tr>\n",
       "      <th>0</th>\n",
       "      <td>2015-07-31</td>\n",
       "      <td>5263</td>\n",
       "    </tr>\n",
       "    <tr>\n",
       "      <th>1</th>\n",
       "      <td>2015-07-30</td>\n",
       "      <td>5020</td>\n",
       "    </tr>\n",
       "    <tr>\n",
       "      <th>2</th>\n",
       "      <td>2015-07-29</td>\n",
       "      <td>4782</td>\n",
       "    </tr>\n",
       "    <tr>\n",
       "      <th>3</th>\n",
       "      <td>2015-07-28</td>\n",
       "      <td>5011</td>\n",
       "    </tr>\n",
       "    <tr>\n",
       "      <th>4</th>\n",
       "      <td>2015-07-27</td>\n",
       "      <td>6102</td>\n",
       "    </tr>\n",
       "  </tbody>\n",
       "</table>\n",
       "</div>"
      ],
      "text/plain": [
       "        Date  Sales\n",
       "0 2015-07-31   5263\n",
       "1 2015-07-30   5020\n",
       "2 2015-07-29   4782\n",
       "3 2015-07-28   5011\n",
       "4 2015-07-27   6102"
      ]
     },
     "execution_count": 8,
     "metadata": {},
     "output_type": "execute_result"
    }
   ],
   "source": [
    "storeSales= train_store[['Date', 'Sales']]\n",
    "storeSales.head()"
   ]
  },
  {
   "cell_type": "code",
   "execution_count": 9,
   "id": "c453f657",
   "metadata": {},
   "outputs": [],
   "source": [
    "scaler = MinMaxScaler()\n",
    "storeSales['storeSalesScaled'] = scaler.fit_transform(storeSales[['Sales']])\n",
    "\n",
    "# storeSales.head()"
   ]
  },
  {
   "cell_type": "code",
   "execution_count": 10,
   "id": "08f2b5ea",
   "metadata": {},
   "outputs": [
    {
     "data": {
      "text/html": [
       "<div>\n",
       "<style scoped>\n",
       "    .dataframe tbody tr th:only-of-type {\n",
       "        vertical-align: middle;\n",
       "    }\n",
       "\n",
       "    .dataframe tbody tr th {\n",
       "        vertical-align: top;\n",
       "    }\n",
       "\n",
       "    .dataframe thead th {\n",
       "        text-align: right;\n",
       "    }\n",
       "</style>\n",
       "<table border=\"1\" class=\"dataframe\">\n",
       "  <thead>\n",
       "    <tr style=\"text-align: right;\">\n",
       "      <th></th>\n",
       "      <th>Date</th>\n",
       "      <th>Sales</th>\n",
       "      <th>storeSalesScaled</th>\n",
       "    </tr>\n",
       "  </thead>\n",
       "  <tbody>\n",
       "    <tr>\n",
       "      <th>49995</th>\n",
       "      <td>2013-06-08</td>\n",
       "      <td>2466</td>\n",
       "      <td>0.059349</td>\n",
       "    </tr>\n",
       "    <tr>\n",
       "      <th>49996</th>\n",
       "      <td>2013-06-07</td>\n",
       "      <td>3984</td>\n",
       "      <td>0.095882</td>\n",
       "    </tr>\n",
       "    <tr>\n",
       "      <th>49997</th>\n",
       "      <td>2013-06-06</td>\n",
       "      <td>4037</td>\n",
       "      <td>0.097158</td>\n",
       "    </tr>\n",
       "    <tr>\n",
       "      <th>49998</th>\n",
       "      <td>2013-06-05</td>\n",
       "      <td>3895</td>\n",
       "      <td>0.093740</td>\n",
       "    </tr>\n",
       "    <tr>\n",
       "      <th>49999</th>\n",
       "      <td>2013-06-04</td>\n",
       "      <td>4059</td>\n",
       "      <td>0.097687</td>\n",
       "    </tr>\n",
       "  </tbody>\n",
       "</table>\n",
       "</div>"
      ],
      "text/plain": [
       "            Date  Sales  storeSalesScaled\n",
       "49995 2013-06-08   2466          0.059349\n",
       "49996 2013-06-07   3984          0.095882\n",
       "49997 2013-06-06   4037          0.097158\n",
       "49998 2013-06-05   3895          0.093740\n",
       "49999 2013-06-04   4059          0.097687"
      ]
     },
     "execution_count": 10,
     "metadata": {},
     "output_type": "execute_result"
    }
   ],
   "source": [
    "storeSales=storeSales[:50000]\n",
    "storeSales.tail()"
   ]
  },
  {
   "cell_type": "markdown",
   "id": "a12a5886",
   "metadata": {},
   "source": [
    "### Unit Root Tests.\n",
    "Unit Root Tests helps us determine the stationarity of our data"
   ]
  },
  {
   "cell_type": "code",
   "execution_count": 11,
   "id": "34d20b7c",
   "metadata": {},
   "outputs": [
    {
     "name": "stdout",
     "output_type": "stream",
     "text": [
      "ADF Statistic: -8.548705443043678\n",
      "p-value: 9.349567942752572e-14\n"
     ]
    }
   ],
   "source": [
    "#Unit Root Tests helps us determine the stationarity of our data\n",
    "adfResult = adfuller(storeSales.Sales.values, autolag='AIC')\n",
    "print(f'ADF Statistic: {adfResult[0]}')\n",
    "print(f'p-value: {adfResult[1]}')"
   ]
  },
  {
   "cell_type": "code",
   "execution_count": null,
   "id": "983d548b",
   "metadata": {},
   "outputs": [],
   "source": [
    "#Unit Root Tests helps us determine the stationarity of our data\n",
    "adfResult = adfuller(storeSales.storeSalesScaled.values, autolag='AIC')\n",
    "print(f'ADF Statistic: {adfResult[0]}')\n",
    "print(f'p-value: {adfResult[1]}')"
   ]
  },
  {
   "cell_type": "markdown",
   "id": "f100bbb4",
   "metadata": {},
   "source": [
    "#### Removing Stationarity\n",
    "The trend can be removed from the observations, then added back to forecasts later to return the prediction to the original scale and calculate a comparable error score.\n",
    "\n",
    "A standard way to remove a trend is by differencing the data. That is the observation from the previous time step (t-1) is subtracted from the current observation (t). This removes the trend and we are left with a difference series, or the changes to the observations from one time step to the next."
   ]
  },
  {
   "cell_type": "code",
   "execution_count": 12,
   "id": "aa4babb3",
   "metadata": {},
   "outputs": [],
   "source": [
    "# create a differenced series\n",
    "def difference(dataset, interval=1):\n",
    "    diff = list()\n",
    "    for i in range(interval, len(dataset)):\n",
    "        value = dataset[i] - dataset[i - interval]\n",
    "        diff.append(value)\n",
    "    return pd.Series(diff)"
   ]
  },
  {
   "cell_type": "code",
   "execution_count": 13,
   "id": "a4477613",
   "metadata": {},
   "outputs": [],
   "source": [
    "storeSalesDif = difference(storeSales.storeSalesScaled.values)"
   ]
  },
  {
   "cell_type": "code",
   "execution_count": 14,
   "id": "92c61a2f",
   "metadata": {},
   "outputs": [
    {
     "data": {
      "text/plain": [
       "0       -0.005848\n",
       "1       -0.005728\n",
       "2        0.005511\n",
       "3        0.026257\n",
       "4       -0.146856\n",
       "           ...   \n",
       "49994    0.059349\n",
       "49995    0.036533\n",
       "49996    0.001276\n",
       "49997   -0.003417\n",
       "49998    0.003947\n",
       "Length: 49999, dtype: float64"
      ]
     },
     "execution_count": 14,
     "metadata": {},
     "output_type": "execute_result"
    }
   ],
   "source": [
    "storeSalesDif"
   ]
  },
  {
   "cell_type": "markdown",
   "id": "968bcfed",
   "metadata": {},
   "source": [
    "#### Autocorrelations and Partial Autocorrelations Plots.\n",
    "We can calculate the correlation for time series observations with observations with previous time steps, called lags. Because the correlation of the time series observations is calculated with values of the same series at previous times, this is called a serial correlation, or an autocorrelation."
   ]
  },
  {
   "cell_type": "code",
   "execution_count": 15,
   "id": "b797f73a",
   "metadata": {},
   "outputs": [],
   "source": [
    "acfSalesScaled = acf(storeSales.storeSalesScaled.values, fft=True, nlags=40)\n",
    "acfSalesScaledNp = np.array(acfSalesScaled)"
   ]
  },
  {
   "cell_type": "code",
   "execution_count": 16,
   "id": "4796e56a",
   "metadata": {},
   "outputs": [
    {
     "data": {
      "image/png": "[encoded data removed]",
      "text/plain": [
       "<Figure size 2160x360 with 1 Axes>"
      ]
     },
     "metadata": {
      "needs_background": "light"
     },
     "output_type": "display_data"
    }
   ],
   "source": [
    "def corrPlots(array: np.array, prefix: str):\n",
    "    plt.figure(figsize=(30, 5))\n",
    "    plt.title(f\"{prefix}  Autocorrelations of Store Sales Min Max Scaled\")\n",
    "    plt.bar(range(len(array)), array)\n",
    "    plt.grid(True)\n",
    "    plt.show()\n",
    "corrPlots(acfSalesScaledNp, '')"
   ]
  },
  {
   "cell_type": "markdown",
   "id": "dc7fad19",
   "metadata": {},
   "source": [
    "A partial autocorrelation is a summary of the relationship between an observation in a time series with observations at prior time steps with the relationships of intervening observations removed"
   ]
  },
  {
   "cell_type": "code",
   "execution_count": 17,
   "id": "b0cb92ff",
   "metadata": {},
   "outputs": [],
   "source": [
    "pacfSalesScaled = pacf(storeSales.storeSalesScaled.values, nlags=40)\n",
    "pacfSalesScaledNp = np.array(pacfSalesScaled)"
   ]
  },
  {
   "cell_type": "code",
   "execution_count": 18,
   "id": "b33fb03f",
   "metadata": {},
   "outputs": [
    {
     "data": {
      "image/png": "[encoded data removed]",
      "text/plain": [
       "<Figure size 2160x360 with 1 Axes>"
      ]
     },
     "metadata": {
      "needs_background": "light"
     },
     "output_type": "display_data"
    }
   ],
   "source": [
    "corrPlots(pacfSalesScaledNp, \"Partial\")"
   ]
  },
  {
   "cell_type": "markdown",
   "id": "a73661d9",
   "metadata": {},
   "source": [
    "## Separating into a Training and Validation Set Fomat to Use Feed into LSTM."
   ]
  },
  {
   "cell_type": "code",
   "execution_count": 19,
   "id": "f564bdfa",
   "metadata": {},
   "outputs": [],
   "source": [
    "SIZE = len(storeSales.storeSalesScaled)\n",
    "WINDOW_SIZE = 48\n",
    "BATCH_SIZE= SIZE-WINDOW_SIZE*2\n",
    "EPOCHS = 200"
   ]
  },
  {
   "cell_type": "code",
   "execution_count": 21,
   "id": "0221b891",
   "metadata": {},
   "outputs": [
    {
     "name": "stdout",
     "output_type": "stream",
     "text": [
      "Shape of the training set date series:  (49904, 1)\n",
      "Shape of the validation set date series:  (96, 1)\n",
      "\n",
      "Shape of the training set logarithm of sales series:  (49904,)\n",
      "Shape of the validation set logarithm of sales series in a stateless LSTM:  (96,)\n"
     ]
    }
   ],
   "source": [
    "DateTrain = storeSales.index.values[0:BATCH_SIZE]\n",
    "DateValid = storeSales.index.values[BATCH_SIZE:]\n",
    "XTrain = storeSales.storeSalesScaled.values[0:BATCH_SIZE].astype('float32')\n",
    "XValid = storeSales.storeSalesScaled.values[BATCH_SIZE:].astype('float32')\n",
    "\n",
    "# Obtain shapes for vectors of size (,1) for dates series\n",
    "\n",
    "DateTrain = np.reshape(DateTrain, (-1, 1))\n",
    "DateValid = np.reshape(DateValid, (-1, 1))\n",
    "\n",
    "print(\"Shape of the training set date series: \", DateTrain.shape)\n",
    "print(\"Shape of the validation set date series: \", DateValid.shape)\n",
    "print()\n",
    "print(\"Shape of the training set logarithm of sales series: \", XTrain.shape)\n",
    "print(\"Shape of the validation set logarithm of sales series in a stateless LSTM: \", XValid.shape)"
   ]
  },
  {
   "cell_type": "code",
   "execution_count": 22,
   "id": "25153865",
   "metadata": {},
   "outputs": [
    {
     "data": {
      "text/plain": [
       "TensorShape([49904, 1])"
      ]
     },
     "execution_count": 22,
     "metadata": {},
     "output_type": "execute_result"
    }
   ],
   "source": [
    "tf.random.set_seed(1234)\n",
    "# add extra dimension\n",
    "series = tf.expand_dims(XTrain, axis=-1)\n",
    "series.shape"
   ]
  },
  {
   "cell_type": "code",
   "execution_count": 23,
   "id": "b5daad70",
   "metadata": {},
   "outputs": [
    {
     "data": {
      "text/plain": [
       "<TensorSliceDataset shapes: (1,), types: tf.float32>"
      ]
     },
     "execution_count": 23,
     "metadata": {},
     "output_type": "execute_result"
    }
   ],
   "source": [
    "#create tensor from each individual element\n",
    "dataset = tf.data.Dataset.from_tensor_slices(series)\n",
    "dataset"
   ]
  },
  {
   "cell_type": "code",
   "execution_count": 24,
   "id": "cda58805",
   "metadata": {},
   "outputs": [],
   "source": [
    "# takes a window_size + 1 chunk from the slices\n",
    "dataset = dataset.window(WINDOW_SIZE + 1, shift=1, drop_remainder=True)"
   ]
  },
  {
   "cell_type": "code",
   "execution_count": 25,
   "id": "fd6a8d2b",
   "metadata": {},
   "outputs": [
    {
     "name": "stdout",
     "output_type": "stream",
     "text": [
      "[0, 1, 2, 3, 4]\n",
      "[1, 2, 3, 4, 5]\n",
      "[2, 3, 4, 5, 6]\n",
      "[3, 4, 5, 6, 7]\n",
      "[4, 5, 6, 7, 8]\n",
      "[5, 6, 7, 8, 9]\n"
     ]
    }
   ],
   "source": [
    "# Example of Window\n",
    "datasetEx = tf.data.Dataset.from_tensor_slices(tf.range(10))\n",
    "datasetEx = datasetEx.window(5, shift=1, drop_remainder=True)\n",
    "for window in datasetEx:\n",
    "    print([elem.numpy() for elem in window])"
   ]
  },
  {
   "cell_type": "code",
   "execution_count": 26,
   "id": "ba6f4b40",
   "metadata": {},
   "outputs": [],
   "source": [
    "dataset = dataset.flat_map(lambda window: window.batch(WINDOW_SIZE + 1))"
   ]
  },
  {
   "cell_type": "code",
   "execution_count": 27,
   "id": "0e388cc9",
   "metadata": {},
   "outputs": [],
   "source": [
    "dataset = dataset.map(lambda window: (window[:-1], window[-1:]))"
   ]
  },
  {
   "cell_type": "code",
   "execution_count": 28,
   "id": "9dd72d53",
   "metadata": {},
   "outputs": [],
   "source": [
    "dataset = dataset.batch(BATCH_SIZE).prefetch(1)"
   ]
  },
  {
   "cell_type": "code",
   "execution_count": 29,
   "id": "b08b0064",
   "metadata": {},
   "outputs": [],
   "source": [
    "def windowed_dataset(series, window_size=WINDOW_SIZE, batch_size=BATCH_SIZE): \n",
    "  series = tf.expand_dims(series, axis=-1)\n",
    "  dataset = tf.data.Dataset.from_tensor_slices(series)\n",
    "  dataset = dataset.window(window_size + 1, shift=1, drop_remainder=True) \n",
    "  dataset = dataset.flat_map(lambda window: window.batch(window_size + 1))\n",
    "  dataset = dataset.map(lambda window: (window[:-1], window[-1:]))\n",
    "  dataset = dataset.batch(batch_size).prefetch(1)\n",
    "  return dataset"
   ]
  },
  {
   "cell_type": "code",
   "execution_count": 30,
   "id": "96ac0c93",
   "metadata": {},
   "outputs": [],
   "source": [
    "DatasetTrain = windowed_dataset(XTrain)\n",
    "DatasetVal = windowed_dataset(XValid)"
   ]
  },
  {
   "cell_type": "markdown",
   "id": "559c4c8b",
   "metadata": {},
   "source": [
    "## Define and Estimate the LSTM."
   ]
  },
  {
   "cell_type": "code",
   "execution_count": 31,
   "id": "78359464",
   "metadata": {},
   "outputs": [],
   "source": [
    "model = Sequential()\n",
    "model.add(LSTM(8, input_shape=[None, 1], return_sequences=True))\n",
    "model.add(LSTM(4, input_shape=[None, 1]))\n",
    "model.add(Dense(1))\n",
    "model.compile(loss=\"huber_loss\", optimizer='adam')"
   ]
  },
  {
   "cell_type": "markdown",
   "id": "1c3d8e1c",
   "metadata": {},
   "source": [
    "The Huber loss is chosen because it is quite robust for non linear regression models and models with non normal errors."
   ]
  },
  {
   "cell_type": "code",
   "execution_count": 32,
   "id": "2e4d045e",
   "metadata": {},
   "outputs": [
    {
     "name": "stdout",
     "output_type": "stream",
     "text": [
      "Model: \"sequential\"\n",
      "_________________________________________________________________\n",
      "Layer (type)                 Output Shape              Param #   \n",
      "=================================================================\n",
      "lstm (LSTM)                  (None, None, 8)           320       \n",
      "_________________________________________________________________\n",
      "lstm_1 (LSTM)                (None, 4)                 208       \n",
      "_________________________________________________________________\n",
      "dense (Dense)                (None, 1)                 5         \n",
      "=================================================================\n",
      "Total params: 533\n",
      "Trainable params: 533\n",
      "Non-trainable params: 0\n",
      "_________________________________________________________________\n"
     ]
    }
   ],
   "source": [
    "model.summary()"
   ]
  },
  {
   "cell_type": "code",
   "execution_count": 33,
   "id": "102649bc",
   "metadata": {},
   "outputs": [
    {
     "name": "stdout",
     "output_type": "stream",
     "text": [
      "Epoch 1/200\n",
      "1/1 [==============================] - 14s 14s/step - loss: 0.0182 - val_loss: 0.0042\n",
      "Epoch 2/200\n",
      "1/1 [==============================] - 10s 10s/step - loss: 0.0170 - val_loss: 0.0037\n",
      "Epoch 3/200\n",
      "1/1 [==============================] - 10s 10s/step - loss: 0.0159 - val_loss: 0.0032\n",
      "Epoch 4/200\n",
      "1/1 [==============================] - 10s 10s/step - loss: 0.0148 - val_loss: 0.0028\n",
      "Epoch 5/200\n",
      "1/1 [==============================] - 10s 10s/step - loss: 0.0138 - val_loss: 0.0024\n",
      "Epoch 6/200\n",
      "1/1 [==============================] - 10s 10s/step - loss: 0.0128 - val_loss: 0.0020\n",
      "Epoch 7/200\n",
      "1/1 [==============================] - 10s 10s/step - loss: 0.0119 - val_loss: 0.0017\n",
      "Epoch 8/200\n",
      "1/1 [==============================] - 10s 10s/step - loss: 0.0111 - val_loss: 0.0014\n",
      "Epoch 9/200\n",
      "1/1 [==============================] - 10s 10s/step - loss: 0.0102 - val_loss: 0.0012\n",
      "Epoch 10/200\n",
      "1/1 [==============================] - 9s 9s/step - loss: 0.0095 - val_loss: 0.0010\n",
      "Epoch 11/200\n",
      "1/1 [==============================] - 10s 10s/step - loss: 0.0088 - val_loss: 8.4827e-04\n",
      "Epoch 12/200\n",
      "1/1 [==============================] - 10s 10s/step - loss: 0.0081 - val_loss: 7.2445e-04\n",
      "Epoch 13/200\n",
      "1/1 [==============================] - 9s 9s/step - loss: 0.0075 - val_loss: 6.3761e-04\n",
      "Epoch 14/200\n",
      "1/1 [==============================] - 9s 9s/step - loss: 0.0069 - val_loss: 5.8776e-04\n",
      "Epoch 15/200\n",
      "1/1 [==============================] - 9s 9s/step - loss: 0.0064 - val_loss: 5.7495e-04\n",
      "Epoch 16/200\n",
      "1/1 [==============================] - 9s 9s/step - loss: 0.0059 - val_loss: 5.9910e-04\n",
      "Epoch 17/200\n",
      "1/1 [==============================] - 9s 9s/step - loss: 0.0054 - val_loss: 6.6007e-04\n",
      "Epoch 18/200\n",
      "1/1 [==============================] - 9s 9s/step - loss: 0.0050 - val_loss: 7.5750e-04\n",
      "Epoch 19/200\n",
      "1/1 [==============================] - 10s 10s/step - loss: 0.0047 - val_loss: 8.9076e-04\n",
      "Epoch 20/200\n",
      "1/1 [==============================] - 9s 9s/step - loss: 0.0044 - val_loss: 0.0011\n",
      "Epoch 21/200\n",
      "1/1 [==============================] - 9s 9s/step - loss: 0.0041 - val_loss: 0.0013\n",
      "Epoch 22/200\n",
      "1/1 [==============================] - 9s 9s/step - loss: 0.0039 - val_loss: 0.0015\n",
      "Epoch 23/200\n",
      "1/1 [==============================] - 13s 13s/step - loss: 0.0037 - val_loss: 0.0018\n",
      "Epoch 24/200\n",
      "1/1 [==============================] - 12s 12s/step - loss: 0.0036 - val_loss: 0.0020\n",
      "Epoch 25/200\n",
      "1/1 [==============================] - 10s 10s/step - loss: 0.0035 - val_loss: 0.0023\n",
      "Epoch 26/200\n",
      "1/1 [==============================] - 10s 10s/step - loss: 0.0034 - val_loss: 0.0026\n",
      "Epoch 27/200\n",
      "1/1 [==============================] - 10s 10s/step - loss: 0.0034 - val_loss: 0.0030\n",
      "Epoch 28/200\n",
      "1/1 [==============================] - 9s 9s/step - loss: 0.0034 - val_loss: 0.0033\n",
      "Epoch 29/200\n",
      "1/1 [==============================] - 9s 9s/step - loss: 0.0034 - val_loss: 0.0035\n",
      "Epoch 30/200\n",
      "1/1 [==============================] - 10s 10s/step - loss: 0.0035 - val_loss: 0.0038\n",
      "Epoch 31/200\n",
      "1/1 [==============================] - 9s 9s/step - loss: 0.0035 - val_loss: 0.0040\n",
      "Epoch 32/200\n",
      "1/1 [==============================] - 10s 10s/step - loss: 0.0036 - val_loss: 0.0042\n",
      "Epoch 33/200\n",
      "1/1 [==============================] - 10s 10s/step - loss: 0.0036 - val_loss: 0.0043\n",
      "Epoch 34/200\n",
      "1/1 [==============================] - 9s 9s/step - loss: 0.0036 - val_loss: 0.0043\n",
      "Epoch 35/200\n",
      "1/1 [==============================] - 9s 9s/step - loss: 0.0036 - val_loss: 0.0043\n",
      "Epoch 36/200\n",
      "1/1 [==============================] - 9s 9s/step - loss: 0.0036 - val_loss: 0.0043\n",
      "Epoch 37/200\n",
      "1/1 [==============================] - 10s 10s/step - loss: 0.0036 - val_loss: 0.0042\n",
      "Epoch 38/200\n",
      "1/1 [==============================] - 9s 9s/step - loss: 0.0036 - val_loss: 0.0041\n",
      "Epoch 39/200\n",
      "1/1 [==============================] - 9s 9s/step - loss: 0.0036 - val_loss: 0.0039\n",
      "Epoch 40/200\n",
      "1/1 [==============================] - 10s 10s/step - loss: 0.0035 - val_loss: 0.0038\n",
      "Epoch 41/200\n",
      "1/1 [==============================] - 9s 9s/step - loss: 0.0035 - val_loss: 0.0036\n",
      "Epoch 42/200\n",
      "1/1 [==============================] - 10s 10s/step - loss: 0.0035 - val_loss: 0.0035\n",
      "Epoch 43/200\n",
      "1/1 [==============================] - 10s 10s/step - loss: 0.0034 - val_loss: 0.0033\n",
      "Epoch 44/200\n",
      "1/1 [==============================] - 9s 9s/step - loss: 0.0034 - val_loss: 0.0032\n",
      "Epoch 45/200\n",
      "1/1 [==============================] - 10s 10s/step - loss: 0.0034 - val_loss: 0.0030\n",
      "Epoch 46/200\n",
      "1/1 [==============================] - 10s 10s/step - loss: 0.0034 - val_loss: 0.0029\n",
      "Epoch 47/200\n",
      "1/1 [==============================] - 10s 10s/step - loss: 0.0034 - val_loss: 0.0028\n",
      "Epoch 48/200\n",
      "1/1 [==============================] - 9s 9s/step - loss: 0.0034 - val_loss: 0.0027\n",
      "Epoch 49/200\n",
      "1/1 [==============================] - 9s 9s/step - loss: 0.0034 - val_loss: 0.0026\n",
      "Epoch 50/200\n",
      "1/1 [==============================] - 9s 9s/step - loss: 0.0033 - val_loss: 0.0025\n",
      "Epoch 51/200\n",
      "1/1 [==============================] - 9s 9s/step - loss: 0.0033 - val_loss: 0.0024\n",
      "Epoch 52/200\n",
      "1/1 [==============================] - 10s 10s/step - loss: 0.0033 - val_loss: 0.0024\n",
      "Epoch 53/200\n",
      "1/1 [==============================] - 9s 9s/step - loss: 0.0033 - val_loss: 0.0023\n",
      "Epoch 54/200\n",
      "1/1 [==============================] - 9s 9s/step - loss: 0.0034 - val_loss: 0.0023\n",
      "Epoch 55/200\n",
      "1/1 [==============================] - 10s 10s/step - loss: 0.0034 - val_loss: 0.0022\n",
      "Epoch 56/200\n",
      "1/1 [==============================] - 10s 10s/step - loss: 0.0034 - val_loss: 0.0022\n",
      "Epoch 57/200\n",
      "1/1 [==============================] - 9s 9s/step - loss: 0.0034 - val_loss: 0.0022\n",
      "Epoch 58/200\n",
      "1/1 [==============================] - 10s 10s/step - loss: 0.0034 - val_loss: 0.0022\n",
      "Epoch 59/200\n",
      "1/1 [==============================] - 10s 10s/step - loss: 0.0034 - val_loss: 0.0022\n",
      "Epoch 60/200\n",
      "1/1 [==============================] - 10s 10s/step - loss: 0.0034 - val_loss: 0.0022\n",
      "Epoch 61/200\n",
      "1/1 [==============================] - 10s 10s/step - loss: 0.0034 - val_loss: 0.0022\n",
      "Epoch 62/200\n",
      "1/1 [==============================] - 9s 9s/step - loss: 0.0033 - val_loss: 0.0022\n",
      "Epoch 63/200\n",
      "1/1 [==============================] - 10s 10s/step - loss: 0.0033 - val_loss: 0.0022\n",
      "Epoch 64/200\n",
      "1/1 [==============================] - 9s 9s/step - loss: 0.0033 - val_loss: 0.0022\n",
      "Epoch 65/200\n",
      "1/1 [==============================] - 9s 9s/step - loss: 0.0033 - val_loss: 0.0022\n",
      "Epoch 66/200\n",
      "1/1 [==============================] - 9s 9s/step - loss: 0.0033 - val_loss: 0.0022\n",
      "Epoch 67/200\n",
      "1/1 [==============================] - 9s 9s/step - loss: 0.0033 - val_loss: 0.0023\n",
      "Epoch 68/200\n",
      "1/1 [==============================] - 9s 9s/step - loss: 0.0033 - val_loss: 0.0023\n",
      "Epoch 69/200\n",
      "1/1 [==============================] - 9s 9s/step - loss: 0.0033 - val_loss: 0.0023\n",
      "Epoch 70/200\n",
      "1/1 [==============================] - 9s 9s/step - loss: 0.0033 - val_loss: 0.0023\n",
      "Epoch 71/200\n",
      "1/1 [==============================] - 9s 9s/step - loss: 0.0033 - val_loss: 0.0024\n",
      "Epoch 72/200\n",
      "1/1 [==============================] - 9s 9s/step - loss: 0.0033 - val_loss: 0.0024\n",
      "Epoch 73/200\n",
      "1/1 [==============================] - 9s 9s/step - loss: 0.0033 - val_loss: 0.0024\n",
      "Epoch 74/200\n",
      "1/1 [==============================] - 9s 9s/step - loss: 0.0033 - val_loss: 0.0024\n",
      "Epoch 75/200\n",
      "1/1 [==============================] - 10s 10s/step - loss: 0.0033 - val_loss: 0.0025\n",
      "Epoch 76/200\n",
      "1/1 [==============================] - 10s 10s/step - loss: 0.0033 - val_loss: 0.0025\n",
      "Epoch 77/200\n",
      "1/1 [==============================] - 11s 11s/step - loss: 0.0033 - val_loss: 0.0025\n",
      "Epoch 78/200\n",
      "1/1 [==============================] - 10s 10s/step - loss: 0.0033 - val_loss: 0.0025\n",
      "Epoch 79/200\n",
      "1/1 [==============================] - 9s 9s/step - loss: 0.0033 - val_loss: 0.0025\n",
      "Epoch 80/200\n",
      "1/1 [==============================] - 9s 9s/step - loss: 0.0033 - val_loss: 0.0025\n",
      "Epoch 81/200\n",
      "1/1 [==============================] - 10s 10s/step - loss: 0.0033 - val_loss: 0.0025\n",
      "Epoch 82/200\n",
      "1/1 [==============================] - 10s 10s/step - loss: 0.0033 - val_loss: 0.0025\n",
      "Epoch 83/200\n",
      "1/1 [==============================] - 9s 9s/step - loss: 0.0033 - val_loss: 0.0025\n",
      "Epoch 84/200\n"
     ]
    },
    {
     "name": "stdout",
     "output_type": "stream",
     "text": [
      "1/1 [==============================] - 9s 9s/step - loss: 0.0033 - val_loss: 0.0025\n",
      "Epoch 85/200\n",
      "1/1 [==============================] - 9s 9s/step - loss: 0.0033 - val_loss: 0.0025\n",
      "Epoch 86/200\n",
      "1/1 [==============================] - 10s 10s/step - loss: 0.0033 - val_loss: 0.0024\n",
      "Epoch 87/200\n",
      "1/1 [==============================] - 9s 9s/step - loss: 0.0033 - val_loss: 0.0024\n",
      "Epoch 88/200\n",
      "1/1 [==============================] - 9s 9s/step - loss: 0.0033 - val_loss: 0.0024\n",
      "Epoch 89/200\n",
      "1/1 [==============================] - 9s 9s/step - loss: 0.0033 - val_loss: 0.0024\n",
      "Epoch 90/200\n",
      "1/1 [==============================] - 9s 9s/step - loss: 0.0033 - val_loss: 0.0024\n",
      "Epoch 91/200\n",
      "1/1 [==============================] - 9s 9s/step - loss: 0.0033 - val_loss: 0.0024\n",
      "Epoch 92/200\n",
      "1/1 [==============================] - 10s 10s/step - loss: 0.0033 - val_loss: 0.0023\n",
      "Epoch 93/200\n",
      "1/1 [==============================] - 9s 9s/step - loss: 0.0033 - val_loss: 0.0023\n",
      "Epoch 94/200\n",
      "1/1 [==============================] - 9s 9s/step - loss: 0.0033 - val_loss: 0.0023\n",
      "Epoch 95/200\n",
      "1/1 [==============================] - 9s 9s/step - loss: 0.0033 - val_loss: 0.0023\n",
      "Epoch 96/200\n",
      "1/1 [==============================] - 9s 9s/step - loss: 0.0033 - val_loss: 0.0023\n",
      "Epoch 97/200\n",
      "1/1 [==============================] - 9s 9s/step - loss: 0.0033 - val_loss: 0.0023\n",
      "Epoch 98/200\n",
      "1/1 [==============================] - 9s 9s/step - loss: 0.0033 - val_loss: 0.0022\n",
      "Epoch 99/200\n",
      "1/1 [==============================] - 9s 9s/step - loss: 0.0033 - val_loss: 0.0022\n",
      "Epoch 100/200\n",
      "1/1 [==============================] - 9s 9s/step - loss: 0.0033 - val_loss: 0.0022\n",
      "Epoch 101/200\n",
      "1/1 [==============================] - 9s 9s/step - loss: 0.0032 - val_loss: 0.0022\n",
      "Epoch 102/200\n",
      "1/1 [==============================] - 9s 9s/step - loss: 0.0032 - val_loss: 0.0022\n",
      "Epoch 103/200\n",
      "1/1 [==============================] - 9s 9s/step - loss: 0.0032 - val_loss: 0.0022\n",
      "Epoch 104/200\n",
      "1/1 [==============================] - 14s 14s/step - loss: 0.0032 - val_loss: 0.0022\n",
      "Epoch 105/200\n",
      "1/1 [==============================] - 10s 10s/step - loss: 0.0032 - val_loss: 0.0022\n",
      "Epoch 106/200\n",
      "1/1 [==============================] - 9s 9s/step - loss: 0.0032 - val_loss: 0.0022\n",
      "Epoch 107/200\n",
      "1/1 [==============================] - 9s 9s/step - loss: 0.0032 - val_loss: 0.0022\n",
      "Epoch 108/200\n",
      "1/1 [==============================] - 9s 9s/step - loss: 0.0032 - val_loss: 0.0022\n",
      "Epoch 109/200\n",
      "1/1 [==============================] - 9s 9s/step - loss: 0.0032 - val_loss: 0.0022\n",
      "Epoch 110/200\n",
      "1/1 [==============================] - 9s 9s/step - loss: 0.0032 - val_loss: 0.0022\n",
      "Epoch 111/200\n",
      "1/1 [==============================] - 9s 9s/step - loss: 0.0032 - val_loss: 0.0022\n",
      "Epoch 112/200\n",
      "1/1 [==============================] - 9s 9s/step - loss: 0.0032 - val_loss: 0.0022\n",
      "Epoch 113/200\n",
      "1/1 [==============================] - 9s 9s/step - loss: 0.0032 - val_loss: 0.0022\n",
      "Epoch 114/200\n",
      "1/1 [==============================] - 10s 10s/step - loss: 0.0032 - val_loss: 0.0021\n",
      "Epoch 115/200\n",
      "1/1 [==============================] - 10s 10s/step - loss: 0.0032 - val_loss: 0.0021\n",
      "Epoch 116/200\n",
      "1/1 [==============================] - 9s 9s/step - loss: 0.0032 - val_loss: 0.0021\n",
      "Epoch 117/200\n",
      "1/1 [==============================] - 9s 9s/step - loss: 0.0032 - val_loss: 0.0021\n",
      "Epoch 118/200\n",
      "1/1 [==============================] - 9s 9s/step - loss: 0.0032 - val_loss: 0.0021\n",
      "Epoch 119/200\n",
      "1/1 [==============================] - 9s 9s/step - loss: 0.0032 - val_loss: 0.0021\n",
      "Epoch 120/200\n",
      "1/1 [==============================] - 9s 9s/step - loss: 0.0032 - val_loss: 0.0021\n",
      "Epoch 121/200\n",
      "1/1 [==============================] - 9s 9s/step - loss: 0.0032 - val_loss: 0.0021\n",
      "Epoch 122/200\n",
      "1/1 [==============================] - 9s 9s/step - loss: 0.0032 - val_loss: 0.0021\n",
      "Epoch 123/200\n",
      "1/1 [==============================] - 9s 9s/step - loss: 0.0032 - val_loss: 0.0021\n",
      "Epoch 124/200\n",
      "1/1 [==============================] - 9s 9s/step - loss: 0.0032 - val_loss: 0.0021\n",
      "Epoch 125/200\n",
      "1/1 [==============================] - 9s 9s/step - loss: 0.0032 - val_loss: 0.0021\n",
      "Epoch 126/200\n",
      "1/1 [==============================] - 9s 9s/step - loss: 0.0032 - val_loss: 0.0021\n",
      "Epoch 127/200\n",
      "1/1 [==============================] - 9s 9s/step - loss: 0.0032 - val_loss: 0.0021\n",
      "Epoch 128/200\n",
      "1/1 [==============================] - 9s 9s/step - loss: 0.0032 - val_loss: 0.0020\n",
      "Epoch 129/200\n",
      "1/1 [==============================] - 9s 9s/step - loss: 0.0032 - val_loss: 0.0020\n",
      "Epoch 130/200\n",
      "1/1 [==============================] - 9s 9s/step - loss: 0.0032 - val_loss: 0.0020\n",
      "Epoch 131/200\n",
      "1/1 [==============================] - 9s 9s/step - loss: 0.0032 - val_loss: 0.0020\n",
      "Epoch 132/200\n",
      "1/1 [==============================] - 9s 9s/step - loss: 0.0032 - val_loss: 0.0020\n",
      "Epoch 133/200\n",
      "1/1 [==============================] - 9s 9s/step - loss: 0.0032 - val_loss: 0.0020\n",
      "Epoch 134/200\n",
      "1/1 [==============================] - 9s 9s/step - loss: 0.0032 - val_loss: 0.0020\n",
      "Epoch 135/200\n",
      "1/1 [==============================] - 9s 9s/step - loss: 0.0032 - val_loss: 0.0020\n",
      "Epoch 136/200\n",
      "1/1 [==============================] - 9s 9s/step - loss: 0.0032 - val_loss: 0.0020\n",
      "Epoch 137/200\n",
      "1/1 [==============================] - 9s 9s/step - loss: 0.0032 - val_loss: 0.0019\n",
      "Epoch 138/200\n",
      "1/1 [==============================] - 9s 9s/step - loss: 0.0032 - val_loss: 0.0019\n",
      "Epoch 139/200\n",
      "1/1 [==============================] - 9s 9s/step - loss: 0.0031 - val_loss: 0.0019\n",
      "Epoch 140/200\n",
      "1/1 [==============================] - 9s 9s/step - loss: 0.0031 - val_loss: 0.0019\n",
      "Epoch 141/200\n",
      "1/1 [==============================] - 11s 11s/step - loss: 0.0031 - val_loss: 0.0019\n",
      "Epoch 142/200\n",
      "1/1 [==============================] - 10s 10s/step - loss: 0.0031 - val_loss: 0.0019\n",
      "Epoch 143/200\n",
      "1/1 [==============================] - 11s 11s/step - loss: 0.0031 - val_loss: 0.0019\n",
      "Epoch 144/200\n",
      "1/1 [==============================] - 11s 11s/step - loss: 0.0031 - val_loss: 0.0019\n",
      "Epoch 145/200\n",
      "1/1 [==============================] - 9s 9s/step - loss: 0.0031 - val_loss: 0.0019\n",
      "Epoch 146/200\n",
      "1/1 [==============================] - 11s 11s/step - loss: 0.0031 - val_loss: 0.0019\n",
      "Epoch 147/200\n",
      "1/1 [==============================] - 10s 10s/step - loss: 0.0031 - val_loss: 0.0018\n",
      "Epoch 148/200\n",
      "1/1 [==============================] - 13s 13s/step - loss: 0.0031 - val_loss: 0.0018\n",
      "Epoch 149/200\n",
      "1/1 [==============================] - 9s 9s/step - loss: 0.0031 - val_loss: 0.0018\n",
      "Epoch 150/200\n",
      "1/1 [==============================] - 9s 9s/step - loss: 0.0031 - val_loss: 0.0018\n",
      "Epoch 151/200\n",
      "1/1 [==============================] - 9s 9s/step - loss: 0.0031 - val_loss: 0.0018\n",
      "Epoch 152/200\n",
      "1/1 [==============================] - 10s 10s/step - loss: 0.0031 - val_loss: 0.0018\n",
      "Epoch 153/200\n",
      "1/1 [==============================] - 10s 10s/step - loss: 0.0031 - val_loss: 0.0018\n",
      "Epoch 154/200\n",
      "1/1 [==============================] - 9s 9s/step - loss: 0.0031 - val_loss: 0.0018\n",
      "Epoch 155/200\n",
      "1/1 [==============================] - 9s 9s/step - loss: 0.0031 - val_loss: 0.0018\n",
      "Epoch 156/200\n",
      "1/1 [==============================] - 9s 9s/step - loss: 0.0031 - val_loss: 0.0018\n",
      "Epoch 157/200\n",
      "1/1 [==============================] - 9s 9s/step - loss: 0.0031 - val_loss: 0.0017\n",
      "Epoch 158/200\n",
      "1/1 [==============================] - 9s 9s/step - loss: 0.0031 - val_loss: 0.0017\n",
      "Epoch 159/200\n",
      "1/1 [==============================] - 9s 9s/step - loss: 0.0031 - val_loss: 0.0017\n",
      "Epoch 160/200\n",
      "1/1 [==============================] - 9s 9s/step - loss: 0.0031 - val_loss: 0.0017\n",
      "Epoch 161/200\n",
      "1/1 [==============================] - 9s 9s/step - loss: 0.0031 - val_loss: 0.0017\n",
      "Epoch 162/200\n",
      "1/1 [==============================] - 9s 9s/step - loss: 0.0031 - val_loss: 0.0017\n",
      "Epoch 163/200\n",
      "1/1 [==============================] - 9s 9s/step - loss: 0.0031 - val_loss: 0.0017\n",
      "Epoch 164/200\n",
      "1/1 [==============================] - 9s 9s/step - loss: 0.0031 - val_loss: 0.0017\n",
      "Epoch 165/200\n",
      "1/1 [==============================] - 9s 9s/step - loss: 0.0031 - val_loss: 0.0016\n",
      "Epoch 166/200\n",
      "1/1 [==============================] - 9s 9s/step - loss: 0.0031 - val_loss: 0.0016\n",
      "Epoch 167/200\n"
     ]
    },
    {
     "name": "stdout",
     "output_type": "stream",
     "text": [
      "1/1 [==============================] - 11s 11s/step - loss: 0.0031 - val_loss: 0.0016\n",
      "Epoch 168/200\n",
      "1/1 [==============================] - 9s 9s/step - loss: 0.0030 - val_loss: 0.0016\n",
      "Epoch 169/200\n",
      "1/1 [==============================] - 9s 9s/step - loss: 0.0030 - val_loss: 0.0016\n",
      "Epoch 170/200\n",
      "1/1 [==============================] - 9s 9s/step - loss: 0.0030 - val_loss: 0.0016\n",
      "Epoch 171/200\n",
      "1/1 [==============================] - 9s 9s/step - loss: 0.0030 - val_loss: 0.0016\n",
      "Epoch 172/200\n",
      "1/1 [==============================] - 9s 9s/step - loss: 0.0030 - val_loss: 0.0016\n",
      "Epoch 173/200\n",
      "1/1 [==============================] - 9s 9s/step - loss: 0.0030 - val_loss: 0.0015\n",
      "Epoch 174/200\n",
      "1/1 [==============================] - 9s 9s/step - loss: 0.0030 - val_loss: 0.0015\n",
      "Epoch 175/200\n",
      "1/1 [==============================] - 9s 9s/step - loss: 0.0030 - val_loss: 0.0015\n",
      "Epoch 176/200\n",
      "1/1 [==============================] - 10s 10s/step - loss: 0.0030 - val_loss: 0.0015\n",
      "Epoch 177/200\n",
      "1/1 [==============================] - 10s 10s/step - loss: 0.0030 - val_loss: 0.0015\n",
      "Epoch 178/200\n",
      "1/1 [==============================] - 10s 10s/step - loss: 0.0030 - val_loss: 0.0015\n",
      "Epoch 179/200\n",
      "1/1 [==============================] - 10s 10s/step - loss: 0.0030 - val_loss: 0.0015\n",
      "Epoch 180/200\n",
      "1/1 [==============================] - 9s 9s/step - loss: 0.0030 - val_loss: 0.0014\n",
      "Epoch 181/200\n",
      "1/1 [==============================] - 9s 9s/step - loss: 0.0030 - val_loss: 0.0014\n",
      "Epoch 182/200\n",
      "1/1 [==============================] - 10s 10s/step - loss: 0.0030 - val_loss: 0.0014\n",
      "Epoch 183/200\n",
      "1/1 [==============================] - 10s 10s/step - loss: 0.0030 - val_loss: 0.0014\n",
      "Epoch 184/200\n",
      "1/1 [==============================] - 10s 10s/step - loss: 0.0030 - val_loss: 0.0014\n",
      "Epoch 185/200\n",
      "1/1 [==============================] - 10s 10s/step - loss: 0.0030 - val_loss: 0.0014\n",
      "Epoch 186/200\n",
      "1/1 [==============================] - 11s 11s/step - loss: 0.0030 - val_loss: 0.0013\n",
      "Epoch 187/200\n",
      "1/1 [==============================] - 9s 9s/step - loss: 0.0030 - val_loss: 0.0013\n",
      "Epoch 188/200\n",
      "1/1 [==============================] - 10s 10s/step - loss: 0.0030 - val_loss: 0.0013\n",
      "Epoch 189/200\n",
      "1/1 [==============================] - 9s 9s/step - loss: 0.0030 - val_loss: 0.0013\n",
      "Epoch 190/200\n",
      "1/1 [==============================] - 9s 9s/step - loss: 0.0030 - val_loss: 0.0013\n",
      "Epoch 191/200\n",
      "1/1 [==============================] - 9s 9s/step - loss: 0.0029 - val_loss: 0.0013\n",
      "Epoch 192/200\n",
      "1/1 [==============================] - 8s 8s/step - loss: 0.0029 - val_loss: 0.0013\n",
      "Epoch 193/200\n",
      "1/1 [==============================] - 9s 9s/step - loss: 0.0029 - val_loss: 0.0012\n",
      "Epoch 194/200\n",
      "1/1 [==============================] - 11s 11s/step - loss: 0.0029 - val_loss: 0.0012\n",
      "Epoch 195/200\n",
      "1/1 [==============================] - 13s 13s/step - loss: 0.0029 - val_loss: 0.0012\n",
      "Epoch 196/200\n",
      "1/1 [==============================] - 15s 15s/step - loss: 0.0029 - val_loss: 0.0012\n",
      "Epoch 197/200\n",
      "1/1 [==============================] - 12s 12s/step - loss: 0.0029 - val_loss: 0.0012\n",
      "Epoch 198/200\n",
      "1/1 [==============================] - 12s 12s/step - loss: 0.0029 - val_loss: 0.0012\n",
      "Epoch 199/200\n",
      "1/1 [==============================] - 12s 12s/step - loss: 0.0029 - val_loss: 0.0011\n",
      "Epoch 200/200\n",
      "1/1 [==============================] - 10s 10s/step - loss: 0.0029 - val_loss: 0.0011\n"
     ]
    }
   ],
   "source": [
    "history = model.fit(DatasetTrain, epochs=EPOCHS, validation_data=DatasetVal, verbose=1)"
   ]
  },
  {
   "cell_type": "code",
   "execution_count": 34,
   "id": "4dc55b8c",
   "metadata": {},
   "outputs": [
    {
     "data": {
      "image/png": "[encoded data removed]",
      "text/plain": [
       "<Figure size 432x288 with 1 Axes>"
      ]
     },
     "metadata": {
      "needs_background": "light"
     },
     "output_type": "display_data"
    }
   ],
   "source": [
    "fig = plt.figure()\n",
    "plt.plot(history.history['loss'], label=\"loss\")\n",
    "plt.plot(history.history['val_loss'], label=\"val_loss\")\n",
    "plt.legend()\n",
    "plt.show()"
   ]
  },
  {
   "cell_type": "markdown",
   "id": "f2398cfc",
   "metadata": {},
   "source": [
    "## Forecast the LSTM on the Validation Set and Assess Accuracy."
   ]
  },
  {
   "cell_type": "code",
   "execution_count": 35,
   "id": "c7462150",
   "metadata": {},
   "outputs": [],
   "source": [
    "def model_forecast(model, series, window_size):\n",
    "  ds = tf.data.Dataset.from_tensor_slices(series)\n",
    "  ds = ds.window(window_size, shift=1, drop_remainder=True) \n",
    "  ds = ds.flat_map(lambda w: w.batch(window_size))\n",
    "  ds = ds.batch(SIZE).prefetch(1)\n",
    "  forecast = model.predict(ds)\n",
    "  return forecast"
   ]
  },
  {
   "cell_type": "code",
   "execution_count": 39,
   "id": "b67564e9",
   "metadata": {},
   "outputs": [],
   "source": [
    "Forecast = model_forecast(model, storeSales.storeSalesScaled.values[:, np.newaxis], WINDOW_SIZE)\n",
    "Results = Forecast[BATCH_SIZE-WINDOW_SIZE:-1]\n",
    "Results1 = scaler.inverse_transform(Results.reshape(-1,1))\n",
    "XValid1 = scaler.inverse_transform(XValid.reshape(-1,1))"
   ]
  },
  {
   "cell_type": "code",
   "execution_count": 40,
   "id": "44909258",
   "metadata": {},
   "outputs": [
    {
     "data": {
      "image/png": "[encoded data removed]",
      "text/plain": [
       "<Figure size 2160x576 with 1 Axes>"
      ]
     },
     "metadata": {
      "needs_background": "light"
     },
     "output_type": "display_data"
    }
   ],
   "source": [
    "plt.figure(figsize=(30, 8))\n",
    "plt.title(\"LSTM Model Forecast Compared to Validation Data\")\n",
    "plt.plot(DateValid.astype('datetime64'), Results1, label='Forecast series')\n",
    "plt.plot(DateValid.astype('datetime64'), np.reshape(XValid1, (2*WINDOW_SIZE, 1)), label='Validation series')\n",
    "plt.xlabel('Date')\n",
    "plt.ylabel('Thousands of Units')\n",
    "plt.xticks(DateValid.astype('datetime64')[:,-1], rotation = 90) \n",
    "plt.legend(loc=\"upper right\")\n",
    "\n",
    "MAE = tf.keras.metrics.mean_absolute_error(XValid1[:,-1], Results[:,-1]).numpy()\n",
    "RMSE = np.sqrt(tf.keras.metrics.mean_squared_error(XValid1[:,-1], Results[:,-1]).numpy())\n",
    "\n",
    "textstr = \"MAE = \" + \"{:.3f}\".format(MAE) + \"  RMSE = \" + \"{:.3f}\".format(RMSE)\n",
    "\n",
    "# place a text box in upper left in axes coords\n",
    "plt.annotate(textstr, xy=(0.87, 0.05), xycoords='axes fraction')\n",
    "plt.grid(True)\n",
    "\n",
    "plt.show()"
   ]
  },
  {
   "cell_type": "code",
   "execution_count": 41,
   "id": "c0ee10a2",
   "metadata": {},
   "outputs": [
    {
     "name": "stdout",
     "output_type": "stream",
     "text": [
      "MAE = 2885.352  RMSE = 3217.386\n"
     ]
    }
   ],
   "source": [
    "print(textstr)"
   ]
  }
 ],
 "metadata": {
  "kernelspec": {
   "display_name": "Python 3",
   "language": "python",
   "name": "python3"
  },
  "language_info": {
   "codemirror_mode": {
    "name": "ipython",
    "version": 3
   },
   "file_extension": ".py",
   "mimetype": "text/x-python",
   "name": "python",
   "nbconvert_exporter": "python",
   "pygments_lexer": "ipython3",
   "version": "3.8.8"
  }
 },
 "nbformat": 4,
 "nbformat_minor": 5
}
