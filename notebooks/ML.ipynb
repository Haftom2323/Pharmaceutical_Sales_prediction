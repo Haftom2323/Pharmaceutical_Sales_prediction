{
 "cells": [
  {
   "cell_type": "code",
   "execution_count": 1,
   "id": "dad81f91",
   "metadata": {},
   "outputs": [],
   "source": [
    "# import necessary packages\n",
    "import numpy as np\n",
    "import pandas as pd \n",
    "\n",
    "import seaborn as sns\n",
    "import matplotlib.pyplot as plt\n",
    "\n",
    "from sklearn.impute import SimpleImputer\n",
    "from sklearn.preprocessing import LabelEncoder, OneHotEncoder, StandardScaler, RobustScaler\n",
    "from sklearn.compose import ColumnTransformer\n",
    "from sklearn.pipeline import Pipeline, make_pipeline\n",
    "\n",
    "from scipy import stats\n",
    "from scipy.stats import skew, norm\n",
    "from scipy.special import boxcox1p\n",
    "from scipy.stats import boxcox_normmax\n",
    "\n",
    "\n",
    "\n",
    "from sklearn.linear_model import LinearRegression\n",
    "from xgboost import XGBRegressor\n",
    "from sklearn.ensemble import RandomForestRegressor, GradientBoostingRegressor\n",
    "from sklearn.model_selection import KFold, cross_val_score, train_test_split\n",
    "from sklearn.metrics import mean_squared_error, mean_absolute_error\n",
    "\n",
    "import pickle\n",
    "import gzip\n",
    "\n",
    "import warnings\n",
    "warnings.filterwarnings('ignore')"
   ]
  },
  {
   "cell_type": "code",
   "execution_count": 2,
   "id": "bcd754f7",
   "metadata": {},
   "outputs": [],
   "source": [
    "train_df=pd.read_csv('../data/train.csv')\n",
    "store_df=pd.read_csv('../data/store.csv',low_memory=False)\n",
    "test_df=pd.read_csv('../data/test.csv')"
   ]
  },
  {
   "cell_type": "code",
   "execution_count": 3,
   "id": "61a0a45a",
   "metadata": {},
   "outputs": [],
   "source": [
    "store_df['CompetitionDistance'].fillna(store_df['CompetitionDistance'].median(), inplace = True)\n",
    "#merge the train data with store data\n",
    "train_store=train_df.merge(store_df,on='Store')\n",
    "train_store.fillna(0, inplace=True)\n",
    "test_store=test_df.merge(store_df,on='Store')\n",
    "test_store.fillna(0,inplace=True)"
   ]
  },
  {
   "cell_type": "markdown",
   "id": "c142dce5",
   "metadata": {},
   "source": [
    "# Machine learning"
   ]
  },
  {
   "cell_type": "markdown",
   "id": "7a0ff63c",
   "metadata": {},
   "source": [
    "#### Preprocessing"
   ]
  },
  {
   "cell_type": "code",
   "execution_count": 4,
   "id": "ae837a13",
   "metadata": {},
   "outputs": [],
   "source": [
    "def preprocess_data(train_store, test_store):\n",
    "    \n",
    "    # preprocessing\n",
    "    global train_features, test_features, train_target, categorical, numerical\n",
    "    # train and target features\n",
    "    train_features = train_store.drop(['Sales', 'Customers'], axis = 1) #drop the target feature + customers ( will not be used for prediction)\n",
    "    train_target  = train_store[['Sales']]\n",
    "    test_features = test_store.drop(['Id'], axis = 1) #drop id, it's required only during submission\n",
    "    \n",
    "    #feature generation + transformations\n",
    "    train_features['Date'] = pd.to_datetime(train_features.Date)\n",
    "    train_features['Month'] = train_features.Date.dt.month.to_list()\n",
    "    train_features['Year'] = train_features.Date.dt.year.to_list()\n",
    "    train_features['Day'] = train_features.Date.dt.day.to_list()\n",
    "    train_features['WeekOfYear'] = train_features.Date.dt.weekofyear.to_list()\n",
    "    train_features['DayOfWeek'] = train_features.Date.dt.dayofweek.to_list()\n",
    "    train_features['weekday'] = 1        # Initialize the column with default value of 1\n",
    "    train_features.loc[train_features['DayOfWeek'] == 5, 'weekday'] = 0\n",
    "    train_features.loc[train_features['DayOfWeek'] == 6, 'weekday'] = 0\n",
    "    train_features = train_features.drop(['Store'], axis = 1)\n",
    "  \n",
    "\n",
    "    test_features['Date'] = pd.to_datetime(test_features.Date)\n",
    "    test_features['Month'] = test_features.Date.dt.month.to_list()\n",
    "    test_features['Year'] = test_features.Date.dt.year.to_list()\n",
    "    test_features['Day'] = test_features.Date.dt.day.to_list()\n",
    "    test_features['WeekOfYear'] = test_features.Date.dt.weekofyear.to_list()\n",
    "    test_features['DayOfWeek'] = test_features.Date.dt.dayofweek.to_list()\n",
    "    test_features['weekday'] = 1        # Initialize the column with default value of 1\n",
    "    test_features.loc[test_features['DayOfWeek'] == 5, 'weekday'] = 0\n",
    "    test_features.loc[test_features['DayOfWeek'] == 6, 'weekday'] = 0\n",
    "    test_features = test_features.drop(['Store'], axis = 1)\n",
    "\n",
    "    # numerical and categorical columns (train set)\n",
    "    categorical = []\n",
    "    numerical = []\n",
    "    timestamp = []\n",
    "    \n",
    "    \n",
    "    for col in train_features.columns:\n",
    "        if train_features[col].dtype == object:\n",
    "            categorical.append(col)\n",
    "        elif train_features[col].dtype in ['int16', 'int32', 'int64', 'float16', 'float32', 'float64']:\n",
    "            numerical.append(col)\n",
    "        else:\n",
    "            timestamp.append(col)\n",
    "\n",
    "    # Keep selected columns only\n",
    "    my_cols = categorical + numerical + timestamp\n",
    "    train_features = train_features[my_cols].copy()\n",
    "    test_features = test_features[my_cols].copy()\n",
    "    features = pd.concat([train_features, test_features]) #merge the features columns for uniform preprocessing\n",
    "\n",
    "    # change dtypes for uniformity in preprocessing\n",
    "    features.CompetitionOpenSinceMonth = features.CompetitionOpenSinceMonth.astype('Int64') \n",
    "    features.CompetitionOpenSinceYear = features.CompetitionOpenSinceYear.astype('Int64')\n",
    "    features.Promo2SinceWeek = features.Promo2SinceWeek.astype('Int64') \n",
    "    features.Promo2SinceYear = features.Promo2SinceYear.astype('Int64')\n",
    "    features[\"StateHoliday\"].loc[features[\"StateHoliday\"] == 0] = \"0\"\n",
    "\n",
    "     # numeric\n",
    "    for col in ['CompetitionDistance', 'CompetitionOpenSinceMonth', 'CompetitionOpenSinceYear', 'Promo2SinceWeek', 'Promo2SinceYear']:\n",
    "        features[col] = features[col].fillna((int(features[col].mean()))) \n",
    "    features.PromoInterval = features.PromoInterval.fillna(features.PromoInterval.mode()[0])\n",
    "    features.Open = features.Open.fillna(features.Open.mode()[0])        \n",
    "    features = pd.get_dummies(features, columns=['StoreType', 'Assortment', 'PromoInterval', 'StateHoliday'], drop_first=True)        \n",
    "    scaler = RobustScaler()\n",
    "\n",
    "    features[numerical] = scaler.fit_transform(features[numerical].values)\n",
    "\n",
    "\n",
    "    return features"
   ]
  },
  {
   "cell_type": "code",
   "execution_count": 5,
   "id": "f6b3d03c",
   "metadata": {},
   "outputs": [
    {
     "data": {
      "text/html": [
       "<div>\n",
       "<style scoped>\n",
       "    .dataframe tbody tr th:only-of-type {\n",
       "        vertical-align: middle;\n",
       "    }\n",
       "\n",
       "    .dataframe tbody tr th {\n",
       "        vertical-align: top;\n",
       "    }\n",
       "\n",
       "    .dataframe thead th {\n",
       "        text-align: right;\n",
       "    }\n",
       "</style>\n",
       "<table border=\"1\" class=\"dataframe\">\n",
       "  <thead>\n",
       "    <tr style=\"text-align: right;\">\n",
       "      <th></th>\n",
       "      <th>DayOfWeek</th>\n",
       "      <th>Open</th>\n",
       "      <th>Promo</th>\n",
       "      <th>SchoolHoliday</th>\n",
       "      <th>CompetitionDistance</th>\n",
       "      <th>CompetitionOpenSinceMonth</th>\n",
       "      <th>CompetitionOpenSinceYear</th>\n",
       "      <th>Promo2</th>\n",
       "      <th>Promo2SinceWeek</th>\n",
       "      <th>Promo2SinceYear</th>\n",
       "      <th>...</th>\n",
       "      <th>StoreType_c</th>\n",
       "      <th>StoreType_d</th>\n",
       "      <th>Assortment_b</th>\n",
       "      <th>Assortment_c</th>\n",
       "      <th>PromoInterval_Feb,May,Aug,Nov</th>\n",
       "      <th>PromoInterval_Jan,Apr,Jul,Oct</th>\n",
       "      <th>PromoInterval_Mar,Jun,Sept,Dec</th>\n",
       "      <th>StateHoliday_a</th>\n",
       "      <th>StateHoliday_b</th>\n",
       "      <th>StateHoliday_c</th>\n",
       "    </tr>\n",
       "  </thead>\n",
       "  <tbody>\n",
       "    <tr>\n",
       "      <th>0</th>\n",
       "      <td>0.25</td>\n",
       "      <td>0.0</td>\n",
       "      <td>1.0</td>\n",
       "      <td>1.0</td>\n",
       "      <td>-0.171266</td>\n",
       "      <td>0.555556</td>\n",
       "      <td>0.000995</td>\n",
       "      <td>-1.0</td>\n",
       "      <td>-0.045455</td>\n",
       "      <td>-0.998509</td>\n",
       "      <td>...</td>\n",
       "      <td>1</td>\n",
       "      <td>0</td>\n",
       "      <td>0</td>\n",
       "      <td>0</td>\n",
       "      <td>0</td>\n",
       "      <td>0</td>\n",
       "      <td>0</td>\n",
       "      <td>0</td>\n",
       "      <td>0</td>\n",
       "      <td>0</td>\n",
       "    </tr>\n",
       "    <tr>\n",
       "      <th>1</th>\n",
       "      <td>0.00</td>\n",
       "      <td>0.0</td>\n",
       "      <td>1.0</td>\n",
       "      <td>1.0</td>\n",
       "      <td>-0.171266</td>\n",
       "      <td>0.555556</td>\n",
       "      <td>0.000995</td>\n",
       "      <td>-1.0</td>\n",
       "      <td>-0.045455</td>\n",
       "      <td>-0.998509</td>\n",
       "      <td>...</td>\n",
       "      <td>1</td>\n",
       "      <td>0</td>\n",
       "      <td>0</td>\n",
       "      <td>0</td>\n",
       "      <td>0</td>\n",
       "      <td>0</td>\n",
       "      <td>0</td>\n",
       "      <td>0</td>\n",
       "      <td>0</td>\n",
       "      <td>0</td>\n",
       "    </tr>\n",
       "    <tr>\n",
       "      <th>2</th>\n",
       "      <td>-0.25</td>\n",
       "      <td>0.0</td>\n",
       "      <td>1.0</td>\n",
       "      <td>1.0</td>\n",
       "      <td>-0.171266</td>\n",
       "      <td>0.555556</td>\n",
       "      <td>0.000995</td>\n",
       "      <td>-1.0</td>\n",
       "      <td>-0.045455</td>\n",
       "      <td>-0.998509</td>\n",
       "      <td>...</td>\n",
       "      <td>1</td>\n",
       "      <td>0</td>\n",
       "      <td>0</td>\n",
       "      <td>0</td>\n",
       "      <td>0</td>\n",
       "      <td>0</td>\n",
       "      <td>0</td>\n",
       "      <td>0</td>\n",
       "      <td>0</td>\n",
       "      <td>0</td>\n",
       "    </tr>\n",
       "    <tr>\n",
       "      <th>3</th>\n",
       "      <td>-0.50</td>\n",
       "      <td>0.0</td>\n",
       "      <td>1.0</td>\n",
       "      <td>1.0</td>\n",
       "      <td>-0.171266</td>\n",
       "      <td>0.555556</td>\n",
       "      <td>0.000995</td>\n",
       "      <td>-1.0</td>\n",
       "      <td>-0.045455</td>\n",
       "      <td>-0.998509</td>\n",
       "      <td>...</td>\n",
       "      <td>1</td>\n",
       "      <td>0</td>\n",
       "      <td>0</td>\n",
       "      <td>0</td>\n",
       "      <td>0</td>\n",
       "      <td>0</td>\n",
       "      <td>0</td>\n",
       "      <td>0</td>\n",
       "      <td>0</td>\n",
       "      <td>0</td>\n",
       "    </tr>\n",
       "    <tr>\n",
       "      <th>4</th>\n",
       "      <td>-0.75</td>\n",
       "      <td>0.0</td>\n",
       "      <td>1.0</td>\n",
       "      <td>1.0</td>\n",
       "      <td>-0.171266</td>\n",
       "      <td>0.555556</td>\n",
       "      <td>0.000995</td>\n",
       "      <td>-1.0</td>\n",
       "      <td>-0.045455</td>\n",
       "      <td>-0.998509</td>\n",
       "      <td>...</td>\n",
       "      <td>1</td>\n",
       "      <td>0</td>\n",
       "      <td>0</td>\n",
       "      <td>0</td>\n",
       "      <td>0</td>\n",
       "      <td>0</td>\n",
       "      <td>0</td>\n",
       "      <td>0</td>\n",
       "      <td>0</td>\n",
       "      <td>0</td>\n",
       "    </tr>\n",
       "  </tbody>\n",
       "</table>\n",
       "<p>5 rows × 26 columns</p>\n",
       "</div>"
      ],
      "text/plain": [
       "   DayOfWeek  Open  Promo  SchoolHoliday  CompetitionDistance  \\\n",
       "0       0.25   0.0    1.0            1.0            -0.171266   \n",
       "1       0.00   0.0    1.0            1.0            -0.171266   \n",
       "2      -0.25   0.0    1.0            1.0            -0.171266   \n",
       "3      -0.50   0.0    1.0            1.0            -0.171266   \n",
       "4      -0.75   0.0    1.0            1.0            -0.171266   \n",
       "\n",
       "   CompetitionOpenSinceMonth  CompetitionOpenSinceYear  Promo2  \\\n",
       "0                   0.555556                  0.000995    -1.0   \n",
       "1                   0.555556                  0.000995    -1.0   \n",
       "2                   0.555556                  0.000995    -1.0   \n",
       "3                   0.555556                  0.000995    -1.0   \n",
       "4                   0.555556                  0.000995    -1.0   \n",
       "\n",
       "   Promo2SinceWeek  Promo2SinceYear  ...  StoreType_c  StoreType_d  \\\n",
       "0        -0.045455        -0.998509  ...            1            0   \n",
       "1        -0.045455        -0.998509  ...            1            0   \n",
       "2        -0.045455        -0.998509  ...            1            0   \n",
       "3        -0.045455        -0.998509  ...            1            0   \n",
       "4        -0.045455        -0.998509  ...            1            0   \n",
       "\n",
       "   Assortment_b  Assortment_c  PromoInterval_Feb,May,Aug,Nov  \\\n",
       "0             0             0                              0   \n",
       "1             0             0                              0   \n",
       "2             0             0                              0   \n",
       "3             0             0                              0   \n",
       "4             0             0                              0   \n",
       "\n",
       "   PromoInterval_Jan,Apr,Jul,Oct  PromoInterval_Mar,Jun,Sept,Dec  \\\n",
       "0                              0                               0   \n",
       "1                              0                               0   \n",
       "2                              0                               0   \n",
       "3                              0                               0   \n",
       "4                              0                               0   \n",
       "\n",
       "   StateHoliday_a  StateHoliday_b  StateHoliday_c  \n",
       "0               0               0               0  \n",
       "1               0               0               0  \n",
       "2               0               0               0  \n",
       "3               0               0               0  \n",
       "4               0               0               0  \n",
       "\n",
       "[5 rows x 26 columns]"
      ]
     },
     "execution_count": 5,
     "metadata": {},
     "output_type": "execute_result"
    }
   ],
   "source": [
    "features = preprocess_data(train_store, test_store)\n",
    "features = features.drop(['Date'], axis = 1)\n",
    "# features.Open.unique()\n",
    "features.head()"
   ]
  },
  {
   "cell_type": "code",
   "execution_count": 6,
   "id": "ad525c6a",
   "metadata": {},
   "outputs": [],
   "source": [
    "# reconstruct train and test sets\n",
    "def reconstruct_sets(features):\n",
    "    global x_train, x_val, y_train, y_val\n",
    "    x_train = features.iloc[:len(train_features), :]\n",
    "    x_test = features.iloc[len(train_features):, :]\n",
    "    y_train = train_target\n",
    "    \n",
    "     # updated train and validation sets\n",
    "    x_train, x_val, y_train, y_val = train_test_split(x_train, y_train, test_size = .20, random_state = 0)\n",
    "    return x_train, x_val, y_train, y_val,x_test\n"
   ]
  },
  {
   "cell_type": "code",
   "execution_count": 7,
   "id": "62ecfc2f",
   "metadata": {},
   "outputs": [],
   "source": [
    "x_train, x_val, y_train, y_val, x_test = reconstruct_sets(features)\n",
    "pd.concat([x_train,y_train]).to_csv('../data/final_train.csv')\n",
    "x_test.to_csv('../data/final_test.csv')\n",
    "#len(train_features)"
   ]
  },
  {
   "cell_type": "code",
   "execution_count": 8,
   "id": "96fb88df",
   "metadata": {},
   "outputs": [],
   "source": [
    "# log transformation on target variable\n",
    "y_train = np.log1p(y_train['Sales'])\n",
    "y_val = np.log1p(y_val['Sales'])"
   ]
  },
  {
   "cell_type": "markdown",
   "id": "83a52896",
   "metadata": {},
   "source": [
    "#### model building and prediction"
   ]
  },
  {
   "cell_type": "code",
   "execution_count": 10,
   "id": "7fe9a7d0",
   "metadata": {},
   "outputs": [
    {
     "name": "stdout",
     "output_type": "stream",
     "text": [
      "Mean squared error for RF on validation data = 0.01838573433718133\n",
      "Mean absolute error for RF on validation data = 0.07511174951942523\n"
     ]
    }
   ],
   "source": [
    "# RandiomForestRegressor\n",
    "\n",
    "#fitting\n",
    "rf = RandomForestRegressor(n_estimators =21 )\n",
    "rf.fit(x_train, y_train)\n",
    "\n",
    "# validation\n",
    "y_pred = rf.predict(x_val)\n",
    "print(\"Mean squared error for RF on validation data =\", mean_squared_error(y_val, y_pred))\n",
    "print(\"Mean absolute error for RF on validation data =\", mean_absolute_error(y_val, y_pred))"
   ]
  },
  {
   "cell_type": "code",
   "execution_count": 11,
   "id": "471bc6e9",
   "metadata": {},
   "outputs": [
    {
     "name": "stdout",
     "output_type": "stream",
     "text": [
      "Mean absolute error for gdb on validation data = 0.2225755647640632\n",
      "Mean squared error for gdb on validation data = 0.09688865344968914\n"
     ]
    }
   ],
   "source": [
    "# GradientBooster\n",
    "\n",
    "#fitting\n",
    "gdb = GradientBoostingRegressor(random_state = 5)\n",
    "gdb = gdb.fit(x_train, y_train)\n",
    "\n",
    "#validation\n",
    "gdb_pred = gdb.predict(x_val)\n",
    "print(\"Mean absolute error for gdb on validation data =\", mean_absolute_error(y_val, gdb_pred))\n",
    "print(\"Mean squared error for gdb on validation data =\", mean_squared_error(y_val, gdb_pred))"
   ]
  },
  {
   "cell_type": "code",
   "execution_count": 12,
   "id": "38a3438d",
   "metadata": {},
   "outputs": [
    {
     "name": "stdout",
     "output_type": "stream",
     "text": [
      "Mean squared error for sLR on validation data = 0.11964739392231853\n",
      "Mean absolute error for SLR on validation data = 0.255395749770787\n"
     ]
    }
   ],
   "source": [
    "# LinearRegression\n",
    "\n",
    "#fitting\n",
    "lr = LinearRegression()\n",
    "lr.fit(x_train, y_train)\n",
    "\n",
    "#validation\n",
    "# scores = cross_val_score(estimator = regressor, X = x_train, y = y_train, cv = 5)\n",
    "lr_pred = lr.predict(x_val)\n",
    "print(\"Mean squared error for sLR on validation data =\", mean_squared_error(y_val, lr_pred))\n",
    "print(\"Mean absolute error for SLR on validation data =\", mean_absolute_error(y_val, lr_pred))"
   ]
  },
  {
   "cell_type": "code",
   "execution_count": 13,
   "id": "a1c60621",
   "metadata": {},
   "outputs": [
    {
     "name": "stdout",
     "output_type": "stream",
     "text": [
      "Mean absolute error for xgb on validation data = 0.12330186031796869\n",
      "Mean squared error for xgb on validation data = 0.031355522325496876\n"
     ]
    }
   ],
   "source": [
    "# ExtremeBooster\n",
    "\n",
    "#fitting\n",
    "xgb = XGBRegressor(random_state = 42)\n",
    "xgb.fit(x_train, y_train)\n",
    "\n",
    "# validation\n",
    "# scores = cross_val_score(estimator = xgb, X = x_train, y = y_train, cv = 5)\n",
    "xgb_pred = xgb.predict(x_val)\n",
    "print(\"Mean absolute error for xgb on validation data =\", mean_absolute_error(y_val, xgb_pred))\n",
    "print(\"Mean squared error for xgb on validation data =\", mean_squared_error(y_val, xgb_pred))"
   ]
  },
  {
   "cell_type": "code",
   "execution_count": 14,
   "id": "2531632d",
   "metadata": {},
   "outputs": [
    {
     "data": {
      "text/plain": [
       "Text(0.5, 1.0, 'MSE scores in the 4 models')"
      ]
     },
     "execution_count": 14,
     "metadata": {},
     "output_type": "execute_result"
    },
    {
     "data": {
      "image/png": "[encoded data removed]",
      "text/plain": [
       "<Figure size 432x288 with 1 Axes>"
      ]
     },
     "metadata": {
      "needs_background": "light"
     },
     "output_type": "display_data"
    }
   ],
   "source": [
    "# Models performance\n",
    "data = {'models':['linear regression', 'random forest', 'xgb', 'gradboost'], \n",
    "        'mse':[0.11848353838194997, 0.018030971405377398, 0.12452821718981405,0.2217410065237111 ],\n",
    "        'mae':[0.25272612891484786, 0.07500417121068341,0.03187673969685498,0.0966456895614806]}\n",
    "performance = pd.DataFrame(data, columns = ['models', 'mse', 'mae'])\n",
    "sns.barplot(x = performance.models,  y = performance.mse)\n",
    "plt.title('MSE scores in the 4 models')"
   ]
  },
  {
   "cell_type": "code",
   "execution_count": 15,
   "id": "43246587",
   "metadata": {},
   "outputs": [
    {
     "data": {
      "text/plain": [
       "Text(0.5, 1.0, 'MAE scores in the 4 models')"
      ]
     },
     "execution_count": 15,
     "metadata": {},
     "output_type": "execute_result"
    },
    {
     "data": {
      "image/png": "[encoded data removed]",
      "text/plain": [
       "<Figure size 432x288 with 1 Axes>"
      ]
     },
     "metadata": {
      "needs_background": "light"
     },
     "output_type": "display_data"
    }
   ],
   "source": [
    "sns.barplot(x = performance.models,  y = performance.mae)\n",
    "plt.title('MAE scores in the 4 models')"
   ]
  },
  {
   "cell_type": "markdown",
   "id": "208920d1",
   "metadata": {},
   "source": [
    "## serializing"
   ]
  },
  {
   "cell_type": "code",
   "execution_count": 16,
   "id": "11ad76ee",
   "metadata": {},
   "outputs": [],
   "source": [
    "models=[rf,gdb,lr,xgb]\n",
    "with open(\"../pickles/30-07-2021-20-51-03-00.pkl.\", \"wb\") as f:\n",
    "    for model in models:\n",
    "         pickle.dump(model, f)"
   ]
  },
  {
   "cell_type": "code",
   "execution_count": 17,
   "id": "370a68b5",
   "metadata": {},
   "outputs": [
    {
     "data": {
      "text/plain": [
       "(41088,)"
      ]
     },
     "execution_count": 17,
     "metadata": {},
     "output_type": "execute_result"
    }
   ],
   "source": [
    "# make predictions using the random forest model\n",
    "final_pred = rf.predict(x_test)\n",
    "final_pred.shape"
   ]
  },
  {
   "cell_type": "code",
   "execution_count": 19,
   "id": "0006bba1",
   "metadata": {},
   "outputs": [],
   "source": [
    "'''reconstruct a df with StoreID, date and Sales columns using the predcitions and the test set then save it as a csv file'''\n",
    "\n",
    "sub = test_store[['Id']]\n",
    "back = np.expm1(final_pred)\n",
    "sub['Sales'] = back\n",
    "sub['Date'] = test_store.Date.to_list()\n",
    "sub['Store'] = test_store.Store.to_list()\n",
    "sub.to_csv('../data/submission.csv', index = False)"
   ]
  },
  {
   "cell_type": "code",
   "execution_count": 20,
   "id": "0eb688af",
   "metadata": {},
   "outputs": [
    {
     "data": {
      "image/png": "[encoded data removed]",
      "text/plain": [
       "<Figure size 1080x504 with 1 Axes>"
      ]
     },
     "metadata": {
      "needs_background": "light"
     },
     "output_type": "display_data"
    }
   ],
   "source": [
    "time_data = sub[['Date', 'Sales']]\n",
    "time_data['datetime'] = pd.to_datetime(time_data['Date'])\n",
    "time_data = time_data.set_index('datetime')\n",
    "time_data = time_data.drop(['Date'], axis = 1)\n",
    "monthly_time_data = time_data.Sales.resample('D').mean() \n",
    "plt.figure(figsize = (15,7))\n",
    "plt.title('Seasonality plot averaged weekly')\n",
    "plt.ylabel('average predicted sales')\n",
    "monthly_time_data.plot()\n",
    "plt.grid()"
   ]
  }
 ],
 "metadata": {
  "kernelspec": {
   "display_name": "Python 3",
   "language": "python",
   "name": "python3"
  },
  "language_info": {
   "codemirror_mode": {
    "name": "ipython",
    "version": 3
   },
   "file_extension": ".py",
   "mimetype": "text/x-python",
   "name": "python",
   "nbconvert_exporter": "python",
   "pygments_lexer": "ipython3",
   "version": "3.8.8"
  }
 },
 "nbformat": 4,
 "nbformat_minor": 5
}
